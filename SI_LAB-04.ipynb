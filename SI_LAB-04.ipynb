{
 "cells": [
  {
   "cell_type": "markdown",
   "metadata": {},
   "source": [
    "##### Polynomial Curve Fitting"
   ]
  },
  {
   "cell_type": "code",
   "execution_count": 1,
   "metadata": {},
   "outputs": [],
   "source": [
    "# importing libraries\n",
    "import numpy as np\n",
    "import matplotlib.pyplot as plt\n",
    "import pandas as pd"
   ]
  },
  {
   "cell_type": "code",
   "execution_count": 2,
   "metadata": {},
   "outputs": [],
   "source": [
    "data = np.loadtxt(\"1D_regression_data.txt\",delimiter=\",\")\n"
   ]
  },
  {
   "cell_type": "code",
   "execution_count": 3,
   "metadata": {},
   "outputs": [
    {
     "name": "stdout",
     "output_type": "stream",
     "text": [
      "Data \n",
      " [[-5.994610e+00  8.917830e+00]\n",
      " [-5.819280e+00  9.026990e+00]\n",
      " [-5.710140e+00  8.961460e+00]\n",
      " [-5.673000e+00  7.187130e+00]\n",
      " [-5.607180e+00  1.197925e+01]\n",
      " [-5.489800e+00  1.182465e+01]\n",
      " [-5.381950e+00  1.123991e+01]\n",
      " [-5.272880e+00  1.133089e+01]\n",
      " [-5.200310e+00  1.109984e+01]\n",
      " [-5.122880e+00  1.052466e+01]\n",
      " [-4.953170e+00  9.816550e+00]\n",
      " [-4.782290e+00  1.175478e+01]\n",
      " [-4.767460e+00  1.138563e+01]\n",
      " [-4.645430e+00  1.178389e+01]\n",
      " [-4.536870e+00  1.277095e+01]\n",
      " [-4.409360e+00  1.470973e+01]\n",
      " [-4.296880e+00  1.405948e+01]\n",
      " [-4.089070e+00  1.183519e+01]\n",
      " [-3.954400e+00  1.245684e+01]\n",
      " [-3.924410e+00  1.138709e+01]\n",
      " [-3.780640e+00  1.317919e+01]\n",
      " [-3.486710e+00  1.301532e+01]\n",
      " [-3.477500e+00  8.682320e+00]\n",
      " [-3.459570e+00  1.184142e+01]\n",
      " [-3.431740e+00  1.350547e+01]\n",
      " [-3.361140e+00  1.307234e+01]\n",
      " [-3.100380e+00  8.210430e+00]\n",
      " [-3.051720e+00  8.755610e+00]\n",
      " [-2.914820e+00  1.192820e+01]\n",
      " [-2.844740e+00  9.095440e+00]\n",
      " [-2.786500e+00  9.358840e+00]\n",
      " [-2.371320e+00  1.085195e+01]\n",
      " [-2.217880e+00  9.312190e+00]\n",
      " [-2.212470e+00  7.826310e+00]\n",
      " [-2.143420e+00  8.831710e+00]\n",
      " [-1.970390e+00  7.622170e+00]\n",
      " [-1.760550e+00  3.522980e+00]\n",
      " [-1.746940e+00  7.713340e+00]\n",
      " [-1.734910e+00  5.846950e+00]\n",
      " [-1.148350e+00  2.451840e+00]\n",
      " [-1.107930e+00  2.813100e+00]\n",
      " [-9.653000e-01 -2.339460e+00]\n",
      " [-8.773700e-01  1.719390e+00]\n",
      " [-7.960600e-01 -1.525990e+00]\n",
      " [-7.775500e-01  2.082530e+00]\n",
      " [-6.743600e-01 -5.927700e-01]\n",
      " [-6.484700e-01 -9.551000e-02]\n",
      " [-6.068700e-01  3.270000e-03]\n",
      " [-5.879900e-01  3.741000e-01]\n",
      " [-4.500200e-01  2.278700e-01]\n",
      " [-4.033600e-01 -2.389300e-01]\n",
      " [-2.747600e-01 -2.615250e+00]\n",
      " [ 1.272300e-01 -4.123860e+00]\n",
      " [ 1.302300e-01 -5.129940e+00]\n",
      " [ 1.367700e-01 -2.202220e+00]\n",
      " [ 1.952200e-01 -2.393860e+00]\n",
      " [ 2.304200e-01 -1.845270e+00]\n",
      " [ 3.575000e-01 -4.408560e+00]\n",
      " [ 4.279100e-01 -2.290100e+00]\n",
      " [ 4.351200e-01 -7.917400e-01]\n",
      " [ 9.012900e-01 -2.030540e+00]\n",
      " [ 9.514300e-01 -6.290460e+00]\n",
      " [ 1.053450e+00 -2.591060e+00]\n",
      " [ 1.099510e+00 -6.915390e+00]\n",
      " [ 1.126070e+00 -8.431400e-01]\n",
      " [ 1.238130e+00 -1.211460e+00]\n",
      " [ 1.363920e+00 -2.688490e+00]\n",
      " [ 1.445750e+00  1.253870e+00]\n",
      " [ 1.758830e+00 -5.352310e+00]\n",
      " [ 1.988680e+00 -1.478640e+00]\n",
      " [ 2.025280e+00 -1.070930e+00]\n",
      " [ 2.093710e+00 -1.164460e+00]\n",
      " [ 2.122220e+00 -5.751800e-01]\n",
      " [ 2.147750e+00 -1.957830e+00]\n",
      " [ 2.453850e+00  1.800790e+00]\n",
      " [ 2.703610e+00  7.195100e-01]\n",
      " [ 2.911180e+00  4.763110e+00]\n",
      " [ 2.929880e+00  4.493360e+00]\n",
      " [ 3.033380e+00  7.800070e+00]\n",
      " [ 3.053750e+00  8.799000e+00]\n",
      " [ 3.347770e+00  4.505750e+00]\n",
      " [ 3.370360e+00  1.174065e+01]\n",
      " [ 3.487960e+00  1.499720e+01]\n",
      " [ 3.892410e+00  2.102609e+01]\n",
      " [ 3.897940e+00  2.162009e+01]\n",
      " [ 3.919360e+00  2.207892e+01]\n",
      " [ 4.269490e+00  2.682140e+01]\n",
      " [ 4.620500e+00  3.538891e+01]\n",
      " [ 4.657170e+00  3.543074e+01]\n",
      " [ 4.662860e+00  3.849782e+01]\n",
      " [ 4.701410e+00  3.550708e+01]\n",
      " [ 4.831030e+00  4.090999e+01]\n",
      " [ 4.863900e+00  3.905750e+01]\n",
      " [ 5.092570e+00  4.168522e+01]\n",
      " [ 5.099340e+00  4.761321e+01]\n",
      " [ 5.452960e+00  5.658869e+01]\n",
      " [ 5.455290e+00  5.935502e+01]\n",
      " [ 5.610910e+00  6.575505e+01]\n",
      " [ 5.742230e+00  6.745378e+01]\n",
      " [ 5.754770e+00  7.047843e+01]] \n",
      "\n"
     ]
    }
   ],
   "source": [
    "print(\"Data \\n\",data,\"\\n\")\n",
    "x,y = data[:,0],data[:,1]"
   ]
  },
  {
   "cell_type": "code",
   "execution_count": 11,
   "metadata": {},
   "outputs": [
    {
     "data": {
      "image/png": "[encoded data removed]",
      "text/plain": [
       "<Figure size 432x288 with 1 Axes>"
      ]
     },
     "metadata": {
      "needs_background": "light"
     },
     "output_type": "display_data"
    }
   ],
   "source": [
    "#plot predictor versus respponse curve\n",
    "\n",
    "plt.scatter(x,y)\n",
    "plt.xlabel(\"Predictor values (X) \")\n",
    "plt.ylabel(\"Response values (Y) \")\n",
    "plt.title(\"Potting the data\",y=0.5)\n",
    "plt.show()\n",
    "\n"
   ]
  },
  {
   "cell_type": "markdown",
   "metadata": {},
   "source": [
    "##### 1.fit polynomial curves of different degrees to the above data\n",
    "##### 2. Compute the goodness of fit of these curves using residual error(least square error)\n",
    "##### 3. Select the best possible curve to fit the data"
   ]
  },
  {
   "cell_type": "code",
   "execution_count": 5,
   "metadata": {},
   "outputs": [],
   "source": [
    "# Fitting different polynomial curves (with different degrees) to the data\n",
    "# Set the different degrees to work with\n",
    "degrees = np.linspace(0,10,11)\n",
    "#Store the residual errors for the different degrees\n",
    "residuals_all_degrees = []\n"
   ]
  },
  {
   "cell_type": "code",
   "execution_count": 6,
   "metadata": {},
   "outputs": [
    {
     "name": "stdout",
     "output_type": "stream",
     "text": [
      "Degree =  0.0 \n",
      "\n",
      "Coefficients : \t  [11.3727492] \n",
      "\n",
      "Residual Error :  [27483.44041176] \n",
      "\n",
      "----------------------------------------\n",
      "Degree =  1.0 \n",
      "\n",
      "Coefficients : \t  [ 2.12196847 11.95906606] \n",
      "\n",
      "Residual Error :  [22167.69532627] \n",
      "\n",
      "----------------------------------------\n",
      "Degree =  2.0 \n",
      "\n",
      "Coefficients : \t  [ 1.15596635  2.47912984 -1.67732163] \n",
      "\n",
      "Residual Error :  [6234.10480667] \n",
      "\n",
      "----------------------------------------\n",
      "Degree =  3.0 \n",
      "\n",
      "Coefficients : \t  [ 0.24279212  1.23069156 -2.83735217 -2.35147829] \n",
      "\n",
      "Residual Error :  [342.53263501] \n",
      "\n",
      "----------------------------------------\n",
      "Degree =  4.0 \n",
      "\n",
      "Coefficients : \t  [ 0.00325598  0.24436142  1.13227811 -2.86724509 -2.03111372] \n",
      "\n",
      "Residual Error :  [332.72703441] \n",
      "\n",
      "----------------------------------------\n",
      "Degree =  5.0 \n",
      "\n",
      "Coefficients : \t  [-7.88243840e-04  2.86172904e-03  2.75474296e-01  1.14219333e+00\n",
      " -3.10440590e+00 -2.05277932e+00] \n",
      "\n",
      "Residual Error :  [327.8688214] \n",
      "\n",
      "----------------------------------------\n",
      "Degree =  6.0 \n",
      "\n",
      "Coefficients : \t  [ 2.30179660e-04 -6.83182470e-04 -8.17461403e-03  2.72038328e-01\n",
      "  1.27038907e+00 -3.08324277e+00 -2.24451415e+00] \n",
      "\n",
      "Residual Error :  [323.92669251] \n",
      "\n",
      "----------------------------------------\n",
      "Degree =  7.0 \n",
      "\n",
      "Coefficients : \t  [ 1.74553457e-05  2.43012894e-04 -1.68398690e-03 -8.75156336e-03\n",
      "  2.88243393e-01  1.27679339e+00 -3.14731026e+00 -2.25313288e+00] \n",
      "\n",
      "Residual Error :  [323.73480534] \n",
      "\n",
      "----------------------------------------\n",
      "Degree =  8.0 \n",
      "\n",
      "Coefficients : \t  [ 1.60979007e-05  3.20017575e-05 -8.14226782e-04 -2.43370681e-03\n",
      "  1.26367791e-02  2.98700615e-01  1.14281583e+00 -3.17773753e+00\n",
      " -2.14097167e+00] \n",
      "\n",
      "Residual Error :  [322.38913313] \n",
      "\n",
      "----------------------------------------\n",
      "Degree =  9.0 \n",
      "\n",
      "Coefficients : \t  [ 1.57464258e-05  3.64604717e-05 -1.12644758e-03 -2.04587171e-03\n",
      "  2.56461265e-02  3.53066902e-02  5.10969631e-02  1.01436730e+00\n",
      " -2.60307486e+00 -2.03412754e+00] \n",
      "\n",
      "Residual Error :  [310.97093028] \n",
      "\n",
      "----------------------------------------\n",
      "Degree =  10.0 \n",
      "\n",
      "Coefficients : \t  [ 4.30780375e-06  2.14136850e-05 -3.18537814e-04 -1.50502011e-03\n",
      "  8.13742507e-03  3.37994503e-02 -8.30491121e-02 -1.03783727e-02\n",
      "  1.48873652e+00 -2.49811216e+00 -2.29964406e+00] \n",
      "\n",
      "Residual Error :  [302.87189805] \n",
      "\n",
      "----------------------------------------\n"
     ]
    }
   ],
   "source": [
    "# Iterate throught the loop to fit curves of different degrees\n",
    "\n",
    "for d in degrees:\n",
    "    results = np.polyfit(x,y,deg=d,full=True)\n",
    "    print(\"Degree = \",d,\"\\n\")\n",
    "    print(\"Coefficients : \\t \",results[0],\"\\n\")\n",
    "    print(\"Residual Error : \",results[1],\"\\n\")\n",
    "    residuals_all_degrees.append(results[1])\n",
    "    print(\"----------------------------------------\")"
   ]
  },
  {
   "cell_type": "code",
   "execution_count": 7,
   "metadata": {},
   "outputs": [
    {
     "data": {
      "image/png": "[encoded data removed]",
      "text/plain": [
       "<Figure size 432x288 with 1 Axes>"
      ]
     },
     "metadata": {
      "needs_background": "light"
     },
     "output_type": "display_data"
    }
   ],
   "source": [
    "# Study the variation of the residual error obtained agnaist the degree of the polynomial\n",
    "\n",
    "residuals_all_degrees = np.asarray(residuals_all_degrees)\n",
    "plt.plot(degrees,residuals_all_degrees)\n",
    "plt.xlabel(\"Degree of polynomial used to fit the data \")\n",
    "plt.xlabel(\"Residual Value Obtained\")\n",
    "plt.ylabel(\"Predictor values\")\n",
    "plt.title(\"Variation of residual error with the degree\")\n",
    "plt.show()\n"
   ]
  }
 ],
 "metadata": {
  "kernelspec": {
   "display_name": "Python 3.9.9 64-bit",
   "language": "python",
   "name": "python3"
  },
  "language_info": {
   "codemirror_mode": {
    "name": "ipython",
    "version": 3
   },
   "file_extension": ".py",
   "mimetype": "text/x-python",
   "name": "python",
   "nbconvert_exporter": "python",
   "pygments_lexer": "ipython3",
   "version": "3.9.13"
  },
  "orig_nbformat": 4,
  "vscode": {
   "interpreter": {
    "hash": "c5d64c408e218bad1ef2f6d52eda7227d7c9b3359218fee44be0ee9517925497"
   }
  }
 },
 "nbformat": 4,
 "nbformat_minor": 2
}
